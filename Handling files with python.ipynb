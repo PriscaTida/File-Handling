{
 "cells": [
  {
   "cell_type": "code",
   "execution_count": 74,
   "id": "4f1ea8b1",
   "metadata": {},
   "outputs": [],
   "source": [
    "#1. Write a Python program to read an entire text file.\n",
    "\n",
    "f = open(\"python.txt\")\n"
   ]
  },
  {
   "cell_type": "code",
   "execution_count": 87,
   "id": "b519487f",
   "metadata": {},
   "outputs": [
    {
     "name": "stdout",
     "output_type": "stream",
     "text": [
      "What is Python language?                                                \n",
      "Python is a widely used high-level, general-purpose, interpreted, dynamic programming language.Its design philosophy emphasizes code readability, and its syntax allows programmers to express concepts in fewer lines of code than possible in \n"
     ]
    }
   ],
   "source": [
    "#2. Write a Python program to read the first n lines of a file.\n",
    "\n",
    "f = open(\"python.txt\")\n",
    "def FirstNlines(file, N):\n",
    "    for line in (f.readlines() [:N]):\n",
    "        print(line, end ='')\n",
    "        \n",
    "FirstNlines(f, 2)"
   ]
  },
  {
   "cell_type": "code",
   "execution_count": 76,
   "id": "fa77f3d9",
   "metadata": {},
   "outputs": [
    {
     "name": "stdout",
     "output_type": "stream",
     "text": [
      "Python supports multiple programming paradigms, including object-oriented, imperative and functional programming or procedural styles. It features a dynamic type system and automatic memory management and has a large and comprehensive standard library.The best way we learn anything is by practice and exercise questions. We  have started this section for those (beginner to intermediate) who are familiar with Python."
     ]
    }
   ],
   "source": [
    "#3. Write a Python program to read the last n lines of a file.\n",
    "\n",
    "f = open(\"python.txt\")\n",
    "def LastNlines(file, N):\n",
    "    for line in (f.readlines() [-N:]):\n",
    "        print(line, end ='')\n",
    "        \n",
    "LastNlines(f, 1)\n"
   ]
  },
  {
   "cell_type": "code",
   "execution_count": 86,
   "id": "61d5af26",
   "metadata": {},
   "outputs": [
    {
     "name": "stdout",
     "output_type": "stream",
     "text": [
      "100\n"
     ]
    }
   ],
   "source": [
    "#4. Write a Python program that takes a text file as input and returns the number of words of a given text file.\n",
    "\n",
    "with open('python.txt','r') as f:\n",
    "    lines=f.read()\n",
    "    words=lines.split()\n",
    "    print(len(words))"
   ]
  },
  {
   "cell_type": "code",
   "execution_count": null,
   "id": "170f8401",
   "metadata": {},
   "outputs": [],
   "source": []
  },
  {
   "cell_type": "code",
   "execution_count": null,
   "id": "72d179ea",
   "metadata": {},
   "outputs": [],
   "source": []
  }
 ],
 "metadata": {
  "kernelspec": {
   "display_name": "Python 3 (ipykernel)",
   "language": "python",
   "name": "python3"
  },
  "language_info": {
   "codemirror_mode": {
    "name": "ipython",
    "version": 3
   },
   "file_extension": ".py",
   "mimetype": "text/x-python",
   "name": "python",
   "nbconvert_exporter": "python",
   "pygments_lexer": "ipython3",
   "version": "3.9.12"
  }
 },
 "nbformat": 4,
 "nbformat_minor": 5
}
